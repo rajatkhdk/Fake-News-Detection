{
 "cells": [
  {
   "cell_type": "code",
   "execution_count": 41,
   "id": "3ac13bdb-7a9e-4bcd-89f9-c9a9c3d91106",
   "metadata": {},
   "outputs": [],
   "source": [
    "import numpy as np\n",
    "import pandas as pd"
   ]
  },
  {
   "cell_type": "code",
   "execution_count": 42,
   "id": "7dc20089-b88c-484f-a6d2-e78f8ab8dad3",
   "metadata": {},
   "outputs": [
    {
     "data": {
      "text/html": [
       "<div>\n",
       "<style scoped>\n",
       "    .dataframe tbody tr th:only-of-type {\n",
       "        vertical-align: middle;\n",
       "    }\n",
       "\n",
       "    .dataframe tbody tr th {\n",
       "        vertical-align: top;\n",
       "    }\n",
       "\n",
       "    .dataframe thead th {\n",
       "        text-align: right;\n",
       "    }\n",
       "</style>\n",
       "<table border=\"1\" class=\"dataframe\">\n",
       "  <thead>\n",
       "    <tr style=\"text-align: right;\">\n",
       "      <th></th>\n",
       "      <th>Unnamed: 0</th>\n",
       "      <th>title_idf</th>\n",
       "      <th>text_idf</th>\n",
       "      <th>label</th>\n",
       "    </tr>\n",
       "  </thead>\n",
       "  <tbody>\n",
       "    <tr>\n",
       "      <th>0</th>\n",
       "      <td>0</td>\n",
       "      <td>[[0. 0. 0. ... 0. 0. 0.]]</td>\n",
       "      <td>[[0. 0. 0. ... 0. 0. 0.]]</td>\n",
       "      <td>0</td>\n",
       "    </tr>\n",
       "    <tr>\n",
       "      <th>1</th>\n",
       "      <td>1</td>\n",
       "      <td>[[0. 0. 0. ... 0. 0. 0.]]</td>\n",
       "      <td>[[0. 0. 0. ... 0. 0. 0.]]</td>\n",
       "      <td>0</td>\n",
       "    </tr>\n",
       "    <tr>\n",
       "      <th>2</th>\n",
       "      <td>2</td>\n",
       "      <td>[[0. 0. 0. ... 0. 0. 0.]]</td>\n",
       "      <td>[[0. 0. 0. ... 0. 0. 0.]]</td>\n",
       "      <td>1</td>\n",
       "    </tr>\n",
       "    <tr>\n",
       "      <th>3</th>\n",
       "      <td>3</td>\n",
       "      <td>[[0. 0. 0. ... 0. 0. 0.]]</td>\n",
       "      <td>[[0. 0. 0. ... 0. 0. 0.]]</td>\n",
       "      <td>0</td>\n",
       "    </tr>\n",
       "    <tr>\n",
       "      <th>4</th>\n",
       "      <td>4</td>\n",
       "      <td>[[0. 0. 0. ... 0. 0. 0.]]</td>\n",
       "      <td>[[0. 0. 0. ... 0. 0. 0.]]</td>\n",
       "      <td>1</td>\n",
       "    </tr>\n",
       "  </tbody>\n",
       "</table>\n",
       "</div>"
      ],
      "text/plain": [
       "   Unnamed: 0                  title_idf                   text_idf  label\n",
       "0           0  [[0. 0. 0. ... 0. 0. 0.]]  [[0. 0. 0. ... 0. 0. 0.]]      0\n",
       "1           1  [[0. 0. 0. ... 0. 0. 0.]]  [[0. 0. 0. ... 0. 0. 0.]]      0\n",
       "2           2  [[0. 0. 0. ... 0. 0. 0.]]  [[0. 0. 0. ... 0. 0. 0.]]      1\n",
       "3           3  [[0. 0. 0. ... 0. 0. 0.]]  [[0. 0. 0. ... 0. 0. 0.]]      0\n",
       "4           4  [[0. 0. 0. ... 0. 0. 0.]]  [[0. 0. 0. ... 0. 0. 0.]]      1"
      ]
     },
     "execution_count": 42,
     "metadata": {},
     "output_type": "execute_result"
    }
   ],
   "source": [
    "df = pd.read_csv(\"tf_idf.csv\")\n",
    "df.head()"
   ]
  },
  {
   "cell_type": "code",
   "execution_count": 43,
   "id": "b37c5a23-0186-4f64-b237-8b67497c1d2f",
   "metadata": {},
   "outputs": [],
   "source": [
    "df = df.dropna()\n",
    "df = df.drop([\"Unnamed: 0\"],axis=1)"
   ]
  },
  {
   "cell_type": "code",
   "execution_count": 44,
   "id": "827ed0e1-012a-433d-9b61-65cb5c69f946",
   "metadata": {},
   "outputs": [
    {
     "data": {
      "text/html": [
       "<div>\n",
       "<style scoped>\n",
       "    .dataframe tbody tr th:only-of-type {\n",
       "        vertical-align: middle;\n",
       "    }\n",
       "\n",
       "    .dataframe tbody tr th {\n",
       "        vertical-align: top;\n",
       "    }\n",
       "\n",
       "    .dataframe thead th {\n",
       "        text-align: right;\n",
       "    }\n",
       "</style>\n",
       "<table border=\"1\" class=\"dataframe\">\n",
       "  <thead>\n",
       "    <tr style=\"text-align: right;\">\n",
       "      <th></th>\n",
       "      <th>title_idf</th>\n",
       "      <th>text_idf</th>\n",
       "      <th>label</th>\n",
       "    </tr>\n",
       "  </thead>\n",
       "  <tbody>\n",
       "    <tr>\n",
       "      <th>0</th>\n",
       "      <td>[[0. 0. 0. ... 0. 0. 0.]]</td>\n",
       "      <td>[[0. 0. 0. ... 0. 0. 0.]]</td>\n",
       "      <td>0</td>\n",
       "    </tr>\n",
       "    <tr>\n",
       "      <th>1</th>\n",
       "      <td>[[0. 0. 0. ... 0. 0. 0.]]</td>\n",
       "      <td>[[0. 0. 0. ... 0. 0. 0.]]</td>\n",
       "      <td>0</td>\n",
       "    </tr>\n",
       "    <tr>\n",
       "      <th>2</th>\n",
       "      <td>[[0. 0. 0. ... 0. 0. 0.]]</td>\n",
       "      <td>[[0. 0. 0. ... 0. 0. 0.]]</td>\n",
       "      <td>1</td>\n",
       "    </tr>\n",
       "    <tr>\n",
       "      <th>3</th>\n",
       "      <td>[[0. 0. 0. ... 0. 0. 0.]]</td>\n",
       "      <td>[[0. 0. 0. ... 0. 0. 0.]]</td>\n",
       "      <td>0</td>\n",
       "    </tr>\n",
       "    <tr>\n",
       "      <th>4</th>\n",
       "      <td>[[0. 0. 0. ... 0. 0. 0.]]</td>\n",
       "      <td>[[0. 0. 0. ... 0. 0. 0.]]</td>\n",
       "      <td>1</td>\n",
       "    </tr>\n",
       "  </tbody>\n",
       "</table>\n",
       "</div>"
      ],
      "text/plain": [
       "                   title_idf                   text_idf  label\n",
       "0  [[0. 0. 0. ... 0. 0. 0.]]  [[0. 0. 0. ... 0. 0. 0.]]      0\n",
       "1  [[0. 0. 0. ... 0. 0. 0.]]  [[0. 0. 0. ... 0. 0. 0.]]      0\n",
       "2  [[0. 0. 0. ... 0. 0. 0.]]  [[0. 0. 0. ... 0. 0. 0.]]      1\n",
       "3  [[0. 0. 0. ... 0. 0. 0.]]  [[0. 0. 0. ... 0. 0. 0.]]      0\n",
       "4  [[0. 0. 0. ... 0. 0. 0.]]  [[0. 0. 0. ... 0. 0. 0.]]      1"
      ]
     },
     "execution_count": 44,
     "metadata": {},
     "output_type": "execute_result"
    }
   ],
   "source": [
    "df.head()"
   ]
  },
  {
   "cell_type": "code",
   "execution_count": 39,
   "id": "2a64eb78-0ea5-4392-aa44-dd02969b7b1e",
   "metadata": {},
   "outputs": [
    {
     "data": {
      "text/html": [
       "<div>\n",
       "<style scoped>\n",
       "    .dataframe tbody tr th:only-of-type {\n",
       "        vertical-align: middle;\n",
       "    }\n",
       "\n",
       "    .dataframe tbody tr th {\n",
       "        vertical-align: top;\n",
       "    }\n",
       "\n",
       "    .dataframe thead th {\n",
       "        text-align: right;\n",
       "    }\n",
       "</style>\n",
       "<table border=\"1\" class=\"dataframe\">\n",
       "  <thead>\n",
       "    <tr style=\"text-align: right;\">\n",
       "      <th></th>\n",
       "      <th>title_idf</th>\n",
       "      <th>text_idf</th>\n",
       "      <th>label</th>\n",
       "    </tr>\n",
       "  </thead>\n",
       "  <tbody>\n",
       "    <tr>\n",
       "      <th>0</th>\n",
       "      <td>[[0. 0. 0. ... 0. 0. 0.]]</td>\n",
       "      <td>[[0. 0. 0. ... 0. 0. 0.]]</td>\n",
       "      <td>0</td>\n",
       "    </tr>\n",
       "    <tr>\n",
       "      <th>1</th>\n",
       "      <td>[[0. 0. 0. ... 0. 0. 0.]]</td>\n",
       "      <td>[[0. 0. 0. ... 0. 0. 0.]]</td>\n",
       "      <td>0</td>\n",
       "    </tr>\n",
       "    <tr>\n",
       "      <th>2</th>\n",
       "      <td>[[0. 0. 0. ... 0. 0. 0.]]</td>\n",
       "      <td>[[0. 0. 0. ... 0. 0. 0.]]</td>\n",
       "      <td>1</td>\n",
       "    </tr>\n",
       "    <tr>\n",
       "      <th>3</th>\n",
       "      <td>[[0. 0. 0. ... 0. 0. 0.]]</td>\n",
       "      <td>[[0. 0. 0. ... 0. 0. 0.]]</td>\n",
       "      <td>0</td>\n",
       "    </tr>\n",
       "    <tr>\n",
       "      <th>4</th>\n",
       "      <td>[[0. 0. 0. ... 0. 0. 0.]]</td>\n",
       "      <td>[[0. 0. 0. ... 0. 0. 0.]]</td>\n",
       "      <td>1</td>\n",
       "    </tr>\n",
       "  </tbody>\n",
       "</table>\n",
       "</div>"
      ],
      "text/plain": [
       "                   title_idf                   text_idf  label\n",
       "0  [[0. 0. 0. ... 0. 0. 0.]]  [[0. 0. 0. ... 0. 0. 0.]]      0\n",
       "1  [[0. 0. 0. ... 0. 0. 0.]]  [[0. 0. 0. ... 0. 0. 0.]]      0\n",
       "2  [[0. 0. 0. ... 0. 0. 0.]]  [[0. 0. 0. ... 0. 0. 0.]]      1\n",
       "3  [[0. 0. 0. ... 0. 0. 0.]]  [[0. 0. 0. ... 0. 0. 0.]]      0\n",
       "4  [[0. 0. 0. ... 0. 0. 0.]]  [[0. 0. 0. ... 0. 0. 0.]]      1"
      ]
     },
     "execution_count": 39,
     "metadata": {},
     "output_type": "execute_result"
    }
   ],
   "source": [
    "df1 = df.copy()\n",
    "df1['title_idf'] = df1['title_idf'].apply(lambda x: x[0] if isinstance(x, np.ndarray) and x.ndim == 2 else x)\n",
    "df1.head()"
   ]
  },
  {
   "cell_type": "code",
   "execution_count": 14,
   "id": "96519eb2-6fa6-498b-88cb-70907fbcc963",
   "metadata": {},
   "outputs": [],
   "source": [
    "from sklearn.model_selection import train_test_split\n",
    "\n",
    "# Features (TF_IDF vectorized text and title) and labels\n",
    "X = df[[\"title_idf\", \"text_idf\"]]\n",
    "y = df[\"label\"]\n",
    "\n",
    "X_train, X_test, y_train, y_test = train_test_split(X, y, test_size=0.2, random_state=42)"
   ]
  },
  {
   "cell_type": "code",
   "execution_count": 15,
   "id": "d6fb2946-0434-4a6a-b50e-244c9a9de7b2",
   "metadata": {},
   "outputs": [],
   "source": [
    "import tensorflow as tf\n",
    "from keras.models import Sequential\n",
    "from keras.layers import Embedding, LSTM, Dense, Dropout\n",
    "from keras.preprocessing.sequence import pad_sequences"
   ]
  },
  {
   "cell_type": "code",
   "execution_count": 20,
   "id": "c187560d-1753-47ec-8640-d058c002afe6",
   "metadata": {},
   "outputs": [],
   "source": [
    "#Pad sequences to a fixed length for both title and text features\n",
    "max_sequence_length = max(X_train[\"title_idf\"].apply(len).max(), X_train[\"text_idf\"].apply(len).max())\n",
    "\n"
   ]
  },
  {
   "cell_type": "code",
   "execution_count": 32,
   "id": "fee7a11d-6601-4703-aa3a-14aa71020f3f",
   "metadata": {},
   "outputs": [
    {
     "ename": "ValueError",
     "evalue": "invalid literal for int() with base 10: '[[0. 0. 0. ... 0. 0. 0.]]'",
     "output_type": "error",
     "traceback": [
      "\u001b[31m---------------------------------------------------------------------------\u001b[39m",
      "\u001b[31mValueError\u001b[39m                                Traceback (most recent call last)",
      "\u001b[36mCell\u001b[39m\u001b[36m \u001b[39m\u001b[32mIn[32]\u001b[39m\u001b[32m, line 1\u001b[39m\n\u001b[32m----> \u001b[39m\u001b[32m1\u001b[39m X_train_title_padded = \u001b[43mpad_sequences\u001b[49m\u001b[43m(\u001b[49m\u001b[43mnp\u001b[49m\u001b[43m.\u001b[49m\u001b[43marray\u001b[49m\u001b[43m(\u001b[49m\u001b[43mX_train\u001b[49m\u001b[43m[\u001b[49m\u001b[33;43m\"\u001b[39;49m\u001b[33;43mtitle_idf\u001b[39;49m\u001b[33;43m\"\u001b[39;49m\u001b[43m]\u001b[49m\u001b[43m.\u001b[49m\u001b[43mtolist\u001b[49m\u001b[43m(\u001b[49m\u001b[43m)\u001b[49m\u001b[43m)\u001b[49m\u001b[43m,\u001b[49m\u001b[43m \u001b[49m\u001b[43mmaxlen\u001b[49m\u001b[43m=\u001b[49m\u001b[43mmax_sequence_length\u001b[49m\u001b[43m)\u001b[49m\n",
      "\u001b[36mFile \u001b[39m\u001b[32m~/anaconda3/lib/python3.12/site-packages/keras/src/utils/sequence_utils.py:125\u001b[39m, in \u001b[36mpad_sequences\u001b[39m\u001b[34m(sequences, maxlen, dtype, padding, truncating, value)\u001b[39m\n\u001b[32m    122\u001b[39m     \u001b[38;5;28;01mraise\u001b[39;00m \u001b[38;5;167;01mValueError\u001b[39;00m(\u001b[33mf\u001b[39m\u001b[33m'\u001b[39m\u001b[33mTruncating type \u001b[39m\u001b[33m\"\u001b[39m\u001b[38;5;132;01m{\u001b[39;00mtruncating\u001b[38;5;132;01m}\u001b[39;00m\u001b[33m\"\u001b[39m\u001b[33m not understood\u001b[39m\u001b[33m'\u001b[39m)\n\u001b[32m    124\u001b[39m \u001b[38;5;66;03m# check `trunc` has expected shape\u001b[39;00m\n\u001b[32m--> \u001b[39m\u001b[32m125\u001b[39m trunc = \u001b[43mnp\u001b[49m\u001b[43m.\u001b[49m\u001b[43masarray\u001b[49m\u001b[43m(\u001b[49m\u001b[43mtrunc\u001b[49m\u001b[43m,\u001b[49m\u001b[43m \u001b[49m\u001b[43mdtype\u001b[49m\u001b[43m=\u001b[49m\u001b[43mdtype\u001b[49m\u001b[43m)\u001b[49m\n\u001b[32m    126\u001b[39m \u001b[38;5;28;01mif\u001b[39;00m trunc.shape[\u001b[32m1\u001b[39m:] != sample_shape:\n\u001b[32m    127\u001b[39m     \u001b[38;5;28;01mraise\u001b[39;00m \u001b[38;5;167;01mValueError\u001b[39;00m(\n\u001b[32m    128\u001b[39m         \u001b[33mf\u001b[39m\u001b[33m\"\u001b[39m\u001b[33mShape of sample \u001b[39m\u001b[38;5;132;01m{\u001b[39;00mtrunc.shape[\u001b[32m1\u001b[39m:]\u001b[38;5;132;01m}\u001b[39;00m\u001b[33m of sequence at \u001b[39m\u001b[33m\"\u001b[39m\n\u001b[32m    129\u001b[39m         \u001b[33mf\u001b[39m\u001b[33m\"\u001b[39m\u001b[33mposition \u001b[39m\u001b[38;5;132;01m{\u001b[39;00midx\u001b[38;5;132;01m}\u001b[39;00m\u001b[33m is different from expected shape \u001b[39m\u001b[33m\"\u001b[39m\n\u001b[32m    130\u001b[39m         \u001b[33mf\u001b[39m\u001b[33m\"\u001b[39m\u001b[38;5;132;01m{\u001b[39;00msample_shape\u001b[38;5;132;01m}\u001b[39;00m\u001b[33m\"\u001b[39m\n\u001b[32m    131\u001b[39m     )\n",
      "\u001b[31mValueError\u001b[39m: invalid literal for int() with base 10: '[[0. 0. 0. ... 0. 0. 0.]]'"
     ]
    }
   ],
   "source": [
    "X_train_title_padded = pad_sequences(np.array(X_train[\"title_idf\"].tolist()), maxlen=max_sequence_length)"
   ]
  },
  {
   "cell_type": "code",
   "execution_count": 31,
   "id": "e7b65669-4e95-404e-87f4-be44228249ad",
   "metadata": {},
   "outputs": [
    {
     "name": "stdout",
     "output_type": "stream",
     "text": [
      "6053    [[0. 0. 0. ... 0. 0. 0.]]\n",
      "5674    [[0. 0. 0. ... 0. 0. 0.]]\n",
      "505     [[0. 0. 0. ... 0. 0. 0.]]\n",
      "4564    [[0. 0. 0. ... 0. 0. 0.]]\n",
      "272     [[0. 0. 0. ... 0. 0. 0.]]\n",
      "Name: title_idf, dtype: object\n"
     ]
    }
   ],
   "source": [
    "print(X_train[\"title_idf\"].head())\n",
    "\n"
   ]
  },
  {
   "cell_type": "code",
   "execution_count": 23,
   "id": "1aad8dbb-c0dd-4fa5-8a89-daaa64068727",
   "metadata": {},
   "outputs": [
    {
     "data": {
      "text/plain": [
       "6053    [[0. 0. 0. ... 0. 0. 0.]]\n",
       "5674    [[0. 0. 0. ... 0. 0. 0.]]\n",
       "505     [[0. 0. 0. ... 0. 0. 0.]]\n",
       "4564    [[0. 0. 0. ... 0. 0. 0.]]\n",
       "272     [[0. 0. 0. ... 0. 0. 0.]]\n",
       "                  ...            \n",
       "3772    [[0. 0. 0. ... 0. 0. 0.]]\n",
       "5191    [[0. 0. 0. ... 0. 0. 0.]]\n",
       "5226    [[0. 0. 0. ... 0. 0. 0.]]\n",
       "5390    [[0. 0. 0. ... 0. 0. 0.]]\n",
       "860     [[0. 0. 0. ... 0. 0. 0.]]\n",
       "Name: title_idf, Length: 5037, dtype: object"
      ]
     },
     "execution_count": 23,
     "metadata": {},
     "output_type": "execute_result"
    }
   ],
   "source": [
    "X_train[\"title_idf\"]"
   ]
  },
  {
   "cell_type": "code",
   "execution_count": null,
   "id": "60b059cf-6bf0-4eb4-b3ff-7e6f637c7289",
   "metadata": {},
   "outputs": [],
   "source": []
  },
  {
   "cell_type": "code",
   "execution_count": null,
   "id": "83abd21d-713d-4bf6-b73b-a204fbc11cbe",
   "metadata": {},
   "outputs": [],
   "source": []
  }
 ],
 "metadata": {
  "kernelspec": {
   "display_name": "Python 3 (ipykernel)",
   "language": "python",
   "name": "python3"
  },
  "language_info": {
   "codemirror_mode": {
    "name": "ipython",
    "version": 3
   },
   "file_extension": ".py",
   "mimetype": "text/x-python",
   "name": "python",
   "nbconvert_exporter": "python",
   "pygments_lexer": "ipython3",
   "version": "3.12.2"
  }
 },
 "nbformat": 4,
 "nbformat_minor": 5
}
